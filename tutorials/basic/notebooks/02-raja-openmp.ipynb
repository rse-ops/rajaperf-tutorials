{
 "cells": [
  {
   "cell_type": "markdown",
   "metadata": {
    "pycharm": {
     "name": "#%% md\n"
    }
   },
   "source": [
    "## Exploring RAJA and OpenMP\n",
    "\n",
    "This notebook illustrates how RAJA and OpenMP constructs can work\n",
    "interactively within Jupyter using a customized Jupyter kernel\n",
    "\n",
    "[Back to Table of Contents](./00-intro-and-contents.ipynb)\n"
   ]
  },
  {
   "cell_type": "markdown",
   "metadata": {
    "pycharm": {
     "name": "#%% md\n"
    }
   },
   "source": [
    "## Usage\n",
    "\n",
    "<div style=\"background: #efffed;\n",
    "            border: 1px solid grey;\n",
    "            margin: 8px 0 8px 0;\n",
    "            text-align: center;\n",
    "            padding: 8px; \">\n",
    "    <i class=\"fa-play fa\"\n",
    "       style=\"font-size: 40px;\n",
    "              line-height: 40px;\n",
    "              margin: 8px;\n",
    "              color: #444;\">\n",
    "    </i>\n",
    "    <div>\n",
    "    To run the selected code cell, hit <pre style=\"background: #efffed\">Shift + Enter</pre>\n",
    "    </div>\n",
    "</div>"
   ]
  },
  {
   "cell_type": "markdown",
   "metadata": {
    "pycharm": {
     "name": "#%% md\n"
    }
   },
   "source": [
    "## Notebook setup\n",
    "You'll need to run the following cell in order for Cling to find\n",
    "OpenMP and RAJA headers and Libraries in this particular notebook."
   ]
  },
  {
   "cell_type": "code",
   "execution_count": null,
   "metadata": {
    "collapsed": false,
    "jupyter": {
     "outputs_hidden": false
    },
    "pycharm": {
     "name": "#%%\n"
    },
    "tags": []
   },
   "outputs": [],
   "source": [
    "#pragma cling add_include_path(\"/opt/conda/include/\")\n",
    "#pragma cling add_library_path(\"/opt/conda/lib/\")\n",
    "#pragma cling load(\"libomp\")\n",
    "\n",
    "#pragma cling add_include_path(\"/home/jovyan/spack/opt/spack/linux-ubuntu22.04-x86_64/gcc-10.4.0/camp-2022.03.2-nh5kkatqzxgiwxusi4ddpyhf2zcqxyow/include/\")\n",
    "#pragma cling add_include_path(\"/home/jovyan/spack/opt/spack/linux-ubuntu22.04-x86_64/gcc-10.4.0/raja-2022.03.0-f7p4trkfeq4gcmqnt5623haejgcvwlvl/include/\")\n",
    "#pragma cling add_library_path(\"/home/jovyan/spack/opt/spack/linux-ubuntu22.04-x86_64/gcc-10.4.0/raja-2022.03.0-f7p4trkfeq4gcmqnt5623haejgcvwlvl/lib/\")\n",
    "#pragma cling load(\"libRAJA\")\n"
   ]
  },
  {
   "cell_type": "markdown",
   "metadata": {
    "pycharm": {
     "name": "#%% md\n"
    }
   },
   "source": [
    "## Simple OpenMP test program"
   ]
  },
  {
   "cell_type": "code",
   "execution_count": null,
   "metadata": {
    "collapsed": false,
    "jupyter": {
     "outputs_hidden": false
    },
    "pycharm": {
     "name": "#%%\n"
    },
    "tags": []
   },
   "outputs": [],
   "source": [
    "#include <omp.h>\n",
    "#include <iostream>\n",
    "\n",
    "/**\n",
    " * Simple test program that uses OpenMP without guards.  Should only be compiled when OpenMP is enabled.\n",
    " */\n",
    "\n",
    "  #pragma omp parallel\n",
    "  {\n",
    "    int thId = omp_get_thread_num();\n",
    "    int thNum = omp_get_num_threads();\n",
    "    int thMax = omp_get_max_threads();\n",
    "\n",
    "    #pragma omp critical\n",
    "    std::cout <<\"\\nMy thread id is: \" << thId\n",
    "              <<\"\\nNum threads is: \" << thNum\n",
    "              <<\"\\nMax threads is: \" << thMax\n",
    "              << std::endl;\n",
    "  }\n"
   ]
  },
  {
   "cell_type": "markdown",
   "metadata": {
    "pycharm": {
     "name": "#%% md\n"
    }
   },
   "source": [
    "## Sequential PI approximation using Riemann Integral Sum\n",
    "The following code contains both a C style algorithm and\n",
    "the RAJA variant using a sequential policy\n",
    "\n",
    "[Policies](https://raja.readthedocs.io/en/develop/sphinx/user_guide/feature/policies.html)\n",
    "\n",
    "Various RAJA policies are used for loop kernel execution, scans, reductions, atomics, etc. \n",
    "Each policy is a type that is passed to a RAJA template method or class to specialize its behavior. \n",
    "Typically, the policy indicates which programming model back-end to use and sometimes provides \n",
    "additional information about the execution pattern, such as number of CUDA threads per threadblock,\n",
    "whether execution is synchronous or asynchronous, etc."
   ]
  },
  {
   "cell_type": "code",
   "execution_count": null,
   "metadata": {
    "pycharm": {
     "name": "#%%\n"
    },
    "tags": []
   },
   "outputs": [],
   "source": [
    "#include <omp.h>\n",
    "#include <cstdlib>\n",
    "#include <iostream>\n",
    "#include <iomanip>\n",
    "\n",
    "#include \"RAJA/RAJA.hpp\"\n",
    "\n",
    "//\n",
    "// Define number of subintervals (N) and size of each subinterval (dx) used in\n",
    "// Riemann integral sum to approximate pi.\n",
    "//\n",
    "  const int N = 512 * 512;\n",
    "  const double dx = 1.0 / double(N);\n",
    "\n",
    "// Set precision for printing pi\n",
    "  int prec = 16;\n",
    "//----------------------------------------------------------------------------//\n",
    "// C-style sequential variant establishes reference solution to compare with.\n",
    "//----------------------------------------------------------------------------//\n",
    "{\n",
    "  std::cout << \"\\n Running C-style sequential pi approximation...\\n\";\n",
    "\n",
    "  double c_pi = 0.0;\n",
    "\n",
    "  for (int i = 0; i < N; ++i) {\n",
    "      double x = (double(i) + 0.5) * dx;\n",
    "      c_pi += dx / (1.0 + x * x);\n",
    "  }\n",
    "  c_pi *= 4.0;\n",
    "\n",
    "  std::cout << \"\\tpi = \" << std::setprecision(prec)\n",
    "            << c_pi << std::endl;\n",
    "}\n",
    "//----------------------------------------------------------------------------//\n",
    "// RAJA sequential variant.\n",
    "//----------------------------------------------------------------------------//\n",
    "{\n",
    "  std::cout << \"\\n Running RAJA sequential pi approximation...\\n\";\n",
    "\n",
    "  using EXEC_POL1   = RAJA::seq_exec;\n",
    "  using REDUCE_POL1 = RAJA::seq_reduce;\n",
    "\n",
    "  RAJA::ReduceSum< REDUCE_POL1, double > seq_pi(0.0);\n",
    "\n",
    "  RAJA::forall< EXEC_POL1 >(RAJA::RangeSegment(0, N), [=](int i) {\n",
    "      double x = (double(i) + 0.5) * dx;\n",
    "      seq_pi += dx / (1.0 + x * x);\n",
    "  });\n",
    "  double seq_pi_val = seq_pi.get() * 4.0;\n",
    "\n",
    "  std::cout << \"\\tpi = \" << std::setprecision(prec)\n",
    "            << seq_pi_val << std::endl;\n",
    "}\n"
   ]
  },
  {
   "cell_type": "markdown",
   "metadata": {
    "pycharm": {
     "name": "#%% md\n"
    }
   },
   "source": [
    "## OpenMP based PI approximation using Riemann Integral Sum\n",
    "The following cell contains C-style code using OpenMP\n",
    "Note that the output differs slightly from the sequential approximation"
   ]
  },
  {
   "cell_type": "code",
   "execution_count": null,
   "metadata": {
    "pycharm": {
     "name": "#%%\n"
    },
    "tags": []
   },
   "outputs": [],
   "source": [
    "//----------------------------------------------------------------------------//\n",
    "// C-style OpenMP multithreading variant.\n",
    "//----------------------------------------------------------------------------//\n",
    "\n",
    "#if defined(RAJA_ENABLE_OPENMP)\n",
    "{\n",
    "  std::cout << \"\\n Running C-style OpenMP vector addition...\\n\";\n",
    "\n",
    "  double c_pi_omp = 0.0;\n",
    "\n",
    "  #pragma omp parallel for reduction(+:c_pi_omp)\n",
    "  for (int i = 0; i < N; ++i) {\n",
    "      double x = (double(i) + 0.5) * dx;\n",
    "      c_pi_omp += dx / (1.0 + x * x);\n",
    "  }\n",
    "  c_pi_omp *= 4.0;\n",
    "\n",
    "  std::cout << \"\\tpi = \" << std::setprecision(prec)\n",
    "            << c_pi_omp << std::endl;\n",
    "}\n",
    "#endif\n",
    "\n"
   ]
  },
  {
   "cell_type": "markdown",
   "metadata": {
    "pycharm": {
     "name": "#%% md\n"
    }
   },
   "source": [
    "## RAJA OpenMP based PI approximation using Riemann Integral Sum\n",
    "The following cell contains the RAJA variant using the\n",
    "omp_parallel_for_exec policy. This creates an OpenMP\n",
    "parallel region and execute with CPU multithreading inside it.\n",
    "Analgous to the C-style variant above which used\n",
    " pragma omp parallel for\n",
    "\n",
    "Also analagous to the C-style variant, RAJA defines a reduction\n",
    "variable omp_pi using the omp_reduce policy."
   ]
  },
  {
   "cell_type": "code",
   "execution_count": null,
   "metadata": {
    "pycharm": {
     "name": "#%%\n"
    },
    "tags": []
   },
   "outputs": [],
   "source": [
    "\n",
    "//----------------------------------------------------------------------------//\n",
    "// RAJA OpenMP multithreading variant.\n",
    "//----------------------------------------------------------------------------//\n",
    "\n",
    "#if defined(RAJA_ENABLE_OPENMP)\n",
    "{\n",
    "  std::cout << \"\\n Running RAJA OpenMP pi approximation...\\n\";\n",
    "\n",
    "  using EXEC_POL2   = RAJA::omp_parallel_for_exec;\n",
    "  using REDUCE_POL2 = RAJA::omp_reduce;\n",
    "\n",
    "  RAJA::ReduceSum< REDUCE_POL2, double > omp_pi(0.0);\n",
    "\n",
    "  RAJA::forall< EXEC_POL2 >(RAJA::RangeSegment(0, N), [=](int i) {\n",
    "      double x = (double(i) + 0.5) * dx;\n",
    "      omp_pi += dx / (1.0 + x * x);\n",
    "  });\n",
    "  double omp_pi_val = omp_pi.get() * 4.0;\n",
    "\n",
    "  std::cout << \"\\tpi = \" << std::setprecision(prec)\n",
    "            << omp_pi_val << std::endl;\n",
    "}\n",
    "#endif\n",
    "\n"
   ]
  },
  {
   "cell_type": "code",
   "execution_count": null,
   "metadata": {},
   "outputs": [],
   "source": []
  }
 ],
 "metadata": {
  "kernelspec": {
   "display_name": "C++17-omp",
   "language": "C++17",
   "name": "xcpp17-omp"
  },
  "language_info": {
   "codemirror_mode": "text/x-c++src",
   "file_extension": ".cpp",
   "mimetype": "text/x-c++src",
   "name": "c++",
   "version": "17"
  }
 },
 "nbformat": 4,
 "nbformat_minor": 4
}
