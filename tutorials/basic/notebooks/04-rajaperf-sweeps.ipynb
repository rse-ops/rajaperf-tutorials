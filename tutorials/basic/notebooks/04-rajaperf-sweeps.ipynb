{
 "cells": [
  {
   "cell_type": "markdown",
   "metadata": {},
   "source": [
    "## Running RAJAPerf Problem Size Sweeps\n",
    "\n",
    "In this section we will investigate the effect of problem size on performance. \n",
    "We'll be relying on a couple of built-in scripts that are deployed with RAJAPerf\n",
    "Namely sweep_size.sh and sweep_graph.py\n",
    "\n",
    "[Back to Table of Contents](./00-intro-and-contents.ipynb)"
   ]
  },
  {
   "cell_type": "markdown",
   "metadata": {},
   "source": [
    "## First we create directories to store the data, then initiate sweeps for GCC and Clang\n",
    "We'll pass in min and max problem sizes increasing by a factor of 2 in size \n",
    "We'll also slightly increase the number of reps to 3 to decrease the noise in the data\n",
    "\n",
    "Note that we'll only be running the kernels in the Stream group for this exercise\n",
    "\n",
    "Note in practice you would allow RAJAPerf to run at the default number of Repetitions per kernel\n",
    "and as well increase the number of passes to run the whole suite to capture better min/max/avg\n",
    "values."
   ]
  },
  {
   "cell_type": "code",
   "execution_count": null,
   "metadata": {
    "tags": []
   },
   "outputs": [],
   "source": [
    "%%bash\n",
    "mkdir -p $HOME/data/sweeps && pushd $HOME/data/sweeps\n",
    "chmod +x $HOME/code/RAJAPerf/scripts/sweep/sweep_size.sh\n",
    "$HOME/code/RAJAPerf/scripts/sweep/sweep_size.sh -x sweep_gcc $HOME/code/RAJAPerf/build_gcc/bin/raja-perf.exe --size-min 1024 --size-max 8000000 --size-ratio 2 -- --checkrun 3 --kernels Stream\n",
    "$HOME/code/RAJAPerf/scripts/sweep/sweep_size.sh -x sweep_clang $HOME/code/RAJAPerf/build_clang/bin/raja-perf.exe --size-min 1024 --size-max 8000000 --size-ratio 2 -- --checkrun 3 --kernels Stream\n",
    "echo \"Done with sweeps!\""
   ]
  },
  {
   "cell_type": "markdown",
   "metadata": {},
   "source": [
    "## Generate single line graphs of bandwidth \n",
    "The following command will generate a single line graph against all of the problem\n",
    "sizes generated in the sweep runs, the metric plotted is bandwidth(GB/s) which\n",
    "relies on the data transfered per unit time. So the Stream benchmarks are a good\n",
    "set of kernels to evaluate bandwidth for, as they are mostly bandwidth bound.\n",
    "\n",
    "We're also going to single out the RAJA_OpenMP vs RAJA_Seq variants to plot, and\n",
    "note that we expect the OpenMP variant to be perform worse or otherwise be erratic\n",
    "at small problem sizes. So the graph shows where the cutoff might be for a sequential\n",
    "vs parallel run, or which compiler is best at a particular problem size.\n",
    "\n",
    "The command will generate .png files with prefix \"graph\" in the $HOME/data/sweeps \n",
    "directory and can be viewed in the browser, by navigating to this directory,\n",
    "and double clicking on the graph"
   ]
  },
  {
   "cell_type": "code",
   "execution_count": null,
   "metadata": {
    "tags": []
   },
   "outputs": [],
   "source": [
    "%%bash\n",
    "pushd $HOME/data/sweeps\n",
    "/opt/conda/bin/python3 $HOME/code/RAJAPerf/scripts/sweep/sweep_graph.py  -d sweep_gcc sweep_clang --caliper -v RAJA_Seq RAJA_OpenMP -slg \"bandwidth(GB/s)\" -o graph\n",
    "echo \"Done graphing!\""
   ]
  },
  {
   "cell_type": "code",
   "execution_count": null,
   "metadata": {},
   "outputs": [],
   "source": []
  }
 ],
 "metadata": {
  "kernelspec": {
   "display_name": "Python 3 (ipykernel)",
   "language": "python",
   "name": "python3"
  },
  "language_info": {
   "codemirror_mode": {
    "name": "ipython",
    "version": 3
   },
   "file_extension": ".py",
   "mimetype": "text/x-python",
   "name": "python",
   "nbconvert_exporter": "python",
   "pygments_lexer": "ipython3",
   "version": "3.10.9"
  },
  "vscode": {
   "interpreter": {
    "hash": "916dbcbb3f70747c44a77c7bcd40155683ae19c65e1c03b4aa3499c5328201f1"
   }
  }
 },
 "nbformat": 4,
 "nbformat_minor": 4
}
