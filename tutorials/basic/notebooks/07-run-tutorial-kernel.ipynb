{
 "cells": [
  {
   "cell_type": "markdown",
   "metadata": {
    "tags": []
   },
   "source": [
    "## Run Tutorial Kernel\n",
    "\n",
    "This section inserts all the code fragments from the prior notebook  \n",
    "Then we'll build the gcc and clang versions of the code in new build directories\n",
    "Then plot some results\n",
    "\n",
    "[Back to Table of Contents](./00-intro-and-contents.ipynb)"
   ]
  },
  {
   "cell_type": "code",
   "execution_count": null,
   "metadata": {
    "tags": []
   },
   "outputs": [],
   "source": [
    "%%bash\n",
    "# Run this cell to perform some setup to modify the RAJAPerf source to accommodate the new kernel\n",
    "pushd $HOME/scripts\n",
    "chmod +x insert_kernels_into_skeletons.sh\n",
    "chmod +x restore_skeletons.sh\n",
    "./insert_kernels_into_skeletons.sh\n",
    "mkdir -p $HOME/code/RAJAPerf/build_tut_gcc\n",
    "mkdir -p $HOME/code/RAJAPerf/build_tut_clang\n",
    "popd\n",
    "# note you can restore the state of RAJAPerf skeleton files by exiting to a terminal session\n",
    "# pushd to ~/scripts directory\n",
    "# run restore_skeleton.sh\n",
    "# or add a new %%bash cell below and do the same"
   ]
  },
  {
   "cell_type": "markdown",
   "metadata": {},
   "source": [
    "Before we inserted code snippets we performed the following\n",
    "copy over the skeletal files and setup a CMakeLists.txt in the tutorial kernel directory\n",
    "```\n",
    "cp $HOME/skeletal/TUTORIAL_KERNEL_SKELETON-omp.cpp $TUTKERNEL_DIR/TUTORIAL_KERNEL-omp.cpp\n",
    "cp $HOME/skeletal/TUTORIAL_KERNEL_SKELETON-seq.cpp $TUTKERNEL_DIR/TUTORIAL_KERNEL-seq.cpp\n",
    "cp $HOME/skeletal/TUTORIAL_KERNEL_SKELETON.cpp $TUTKERNEL_DIR/TUTORIAL_KERNEL.cpp\n",
    "cp $HOME/skeletal/TUTORIAL_KERNEL_SKELETON.hpp $TUTKERNEL_DIR/TUTORIAL_KERNEL.hpp\n",
    "cp $HOME/skeletal/src_tutor_CMakeLists.txt $TUTKERNEL_DIR/CMakeLists.txt\n",
    "```\n",
    "\n",
    "with CMakeLists.txt\n",
    "```\n",
    "blt_add_library(\n",
    "  NAME tutkernel\n",
    "  SOURCES\n",
    "  TUTORIAL_KERNEL.cpp\n",
    "  TUTORIAL_KERNEL-seq.cpp\n",
    "  TUTORIAL_KERNEL-omp.cpp\n",
    "  DEPENDS_ON common ${RAJA_PERFSUITE_DEPENDS}\n",
    "  )\n",
    "```"
   ]
  },
  {
   "cell_type": "code",
   "execution_count": null,
   "metadata": {
    "tags": []
   },
   "outputs": [],
   "source": [
    "%%bash\n",
    "# Run this cell to compile the new code for gcc\n",
    "pushd ~/code/RAJAPerf/build_tut_gcc/\n",
    "cmake -C ../hc*gcc* ..\n",
    "make -j 5\n",
    "popd"
   ]
  },
  {
   "cell_type": "code",
   "execution_count": null,
   "metadata": {
    "tags": []
   },
   "outputs": [],
   "source": [
    "%%bash\n",
    "# Run this cell to compile the new code for clang\n",
    "pushd ~/code/RAJAPerf/build_tut_clang/\n",
    "cmake -C ../hc*clang* ..\n",
    "make -j 5\n",
    "popd"
   ]
  },
  {
   "cell_type": "code",
   "execution_count": null,
   "metadata": {
    "tags": []
   },
   "outputs": [],
   "source": [
    "%%bash\n",
    "mkdir -p $HOME/data/sweeps_tut_kernel && pushd $HOME/data/sweeps_tut_kernel\n",
    "chmod +x $HOME/code/RAJAPerf/scripts/sweep/sweep_size.sh\n",
    "$HOME/code/RAJAPerf/scripts/sweep/sweep_size.sh -x sweep_gcc $HOME/code/RAJAPerf/build_tut_gcc/bin/raja-perf.exe --size-min 1024 --size-max 1000000 --size-ratio 2 -- --checkrun 3 --kernels Tutorial\n",
    "$HOME/code/RAJAPerf/scripts/sweep/sweep_size.sh -x sweep_clang $HOME/code/RAJAPerf/build_tut_clang/bin/raja-perf.exe --size-min 1024 --size-max 1000000 --size-ratio 2 -- --checkrun 3 --kernels Tutorial\n",
    "echo \"All done with sweeps!\""
   ]
  },
  {
   "cell_type": "markdown",
   "metadata": {},
   "source": [
    "The following cell will generate a graph (.png) of problem size vs time, and it can be found by navigating to the data/sweeps_tut_kernel directory"
   ]
  },
  {
   "cell_type": "code",
   "execution_count": null,
   "metadata": {
    "tags": []
   },
   "outputs": [],
   "source": [
    "%%bash\n",
    "pushd $HOME/data/sweeps_tut_kernel\n",
    "/opt/conda/bin/python3 $HOME/code/RAJAPerf/scripts/sweep/sweep_graph.py  -d sweep_gcc sweep_clang --caliper -v RAJA_Seq RAJA_OpenMP -slg \"time(ms)\" -o graph\n",
    "echo \"All done with graphs!\""
   ]
  },
  {
   "cell_type": "code",
   "execution_count": null,
   "metadata": {},
   "outputs": [],
   "source": []
  }
 ],
 "metadata": {
  "kernelspec": {
   "display_name": "Python 3 (ipykernel)",
   "language": "python",
   "name": "python3"
  },
  "language_info": {
   "codemirror_mode": {
    "name": "ipython",
    "version": 3
   },
   "file_extension": ".py",
   "mimetype": "text/x-python",
   "name": "python",
   "nbconvert_exporter": "python",
   "pygments_lexer": "ipython3",
   "version": "3.10.9"
  },
  "vscode": {
   "interpreter": {
    "hash": "916dbcbb3f70747c44a77c7bcd40155683ae19c65e1c03b4aa3499c5328201f1"
   }
  }
 },
 "nbformat": 4,
 "nbformat_minor": 4
}
